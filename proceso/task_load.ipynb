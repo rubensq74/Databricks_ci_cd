{
 "cells": [
  {
   "cell_type": "code",
   "execution_count": 0,
   "metadata": {
    "application/vnd.databricks.v1+cell": {
     "cellMetadata": {},
     "inputWidgets": {},
     "nuid": "bd2ecb63-ae16-4d21-9891-8027ab93f12a",
     "showTitle": false,
     "tableResultSettingsMap": {},
     "title": ""
    }
   },
   "outputs": [],
   "source": [
    "from pyspark.sql.functions import col, sum, avg, round, bround"
   ]
  },
  {
   "cell_type": "code",
   "execution_count": 0,
   "metadata": {
    "application/vnd.databricks.v1+cell": {
     "cellMetadata": {},
     "inputWidgets": {},
     "nuid": "7c0feb09-36b3-41ce-bd90-bdc2fa1a26d0",
     "showTitle": false,
     "tableResultSettingsMap": {},
     "title": ""
    }
   },
   "outputs": [],
   "source": [
    "df_silver_procesar = spark.table(\"dev_ecommerce.silver.sales_orders\")"
   ]
  },
  {
   "cell_type": "code",
   "execution_count": 0,
   "metadata": {
    "application/vnd.databricks.v1+cell": {
     "cellMetadata": {},
     "inputWidgets": {},
     "nuid": "786ece90-145d-45d6-8a43-7b522379d1d4",
     "showTitle": false,
     "tableResultSettingsMap": {},
     "title": ""
    }
   },
   "outputs": [],
   "source": [
    "# Calcular métricas de negocio agregadas por categoría y segmento de cliente\n",
    "\n",
    "# crear columan venta bruta\n",
    "df_silver_procesar_summary = df_silver_procesar.withColumn(\n",
    "    \"gross_sale\",bround((col(\"Price\")*col(\"Units_Sold\")),2)\n",
    ")\n",
    "# crear columan sales_total\n",
    "\n",
    "df_silver_procesar_summary = df_silver_procesar_summary.withColumn(\n",
    "    \"total_sales\",bround((col(\"Price\")*col(\"Units_Sold\"))-col(\"Discount\"),2)\n",
    ")"
   ]
  },
  {
   "cell_type": "code",
   "execution_count": 0,
   "metadata": {
    "application/vnd.databricks.v1+cell": {
     "cellMetadata": {},
     "inputWidgets": {},
     "nuid": "0b6ace22-5c87-44e3-843f-1f9d7ff4224b",
     "showTitle": false,
     "tableResultSettingsMap": {},
     "title": ""
    }
   },
   "outputs": [],
   "source": [
    "# creacion de los archivos delta\n",
    "golden_path = \"abfss://golden@adlsproyecto2025.dfs.core.windows.net/sales_orders/\""
   ]
  },
  {
   "cell_type": "code",
   "execution_count": 0,
   "metadata": {
    "application/vnd.databricks.v1+cell": {
     "cellMetadata": {},
     "inputWidgets": {},
     "nuid": "c973a2b3-1b5d-4a04-8000-50c0e98ba799",
     "showTitle": false,
     "tableResultSettingsMap": {},
     "title": ""
    }
   },
   "outputs": [],
   "source": [
    "# creacion de la tabla sales_ordes en el schema golden\n",
    "\n",
    "spark.sql(f\"\"\"\n",
    "    CREATE TABLE IF NOT EXISTS dev_ecommerce.golden.sales_orders\n",
    "    USING DELTA\n",
    "    LOCATION '{golden_path}'\n",
    "\"\"\")"
   ]
  }
 ],
 "metadata": {
  "application/vnd.databricks.v1+notebook": {
   "computePreferences": null,
   "dashboards": [],
   "environmentMetadata": {
    "base_environment": "",
    "environment_version": "3"
   },
   "inputWidgetPreferences": null,
   "language": "python",
   "notebookMetadata": {
    "pythonIndentUnit": 4
   },
   "notebookName": "task_load",
   "widgets": {}
  },
  "language_info": {
   "name": "python"
  }
 },
 "nbformat": 4,
 "nbformat_minor": 0
}
