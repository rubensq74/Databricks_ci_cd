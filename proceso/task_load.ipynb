{
 "cells": [
  {
   "cell_type": "code",
   "execution_count": 0,
   "metadata": {
    "application/vnd.databricks.v1+cell": {
     "cellMetadata": {
      "byteLimit": 2048000,
      "rowLimit": 10000
     },
     "inputWidgets": {},
     "nuid": "bd2ecb63-ae16-4d21-9891-8027ab93f12a",
     "showTitle": false,
     "tableResultSettingsMap": {},
     "title": ""
    }
   },
   "outputs": [],
   "source": [
    "from pyspark.sql.functions import col, sum, avg, round, bround"
   ]
  },
  {
   "cell_type": "code",
   "execution_count": 0,
   "metadata": {
    "application/vnd.databricks.v1+cell": {
     "cellMetadata": {
      "byteLimit": 2048000,
      "rowLimit": 10000
     },
     "inputWidgets": {},
     "nuid": "e88858af-0636-46cf-bddf-3fd8bcd682e9",
     "showTitle": false,
     "tableResultSettingsMap": {},
     "title": ""
    }
   },
   "outputs": [],
   "source": [
    "# Load a Golden\n",
    "\n",
    "dbutils.widgets.text(\"catalog\", \"dev_ecommerce\")\n",
    "dbutils.widgets.text(\"storage_account\",\"adlsproyecto2025\")"
   ]
  },
  {
   "cell_type": "code",
   "execution_count": 0,
   "metadata": {
    "application/vnd.databricks.v1+cell": {
     "cellMetadata": {
      "byteLimit": 2048000,
      "rowLimit": 10000
     },
     "inputWidgets": {},
     "nuid": "cb8e6fdd-495a-4c06-b466-fca6349d32ba",
     "showTitle": false,
     "tableResultSettingsMap": {},
     "title": ""
    }
   },
   "outputs": [],
   "source": [
    "catalog_param = dbutils.widgets.get(\"catalog\")\n",
    "storage_account = dbutils.widgets.get(\"storage_account\")\n",
    "# container y schema serán lo mismo\n",
    "container = {\"origen\":\"silver\",\"destino\":\"golden\"}"
   ]
  },
  {
   "cell_type": "code",
   "execution_count": 0,
   "metadata": {
    "application/vnd.databricks.v1+cell": {
     "cellMetadata": {
      "byteLimit": 2048000,
      "rowLimit": 10000
     },
     "inputWidgets": {},
     "nuid": "7c0feb09-36b3-41ce-bd90-bdc2fa1a26d0",
     "showTitle": false,
     "tableResultSettingsMap": {},
     "title": ""
    }
   },
   "outputs": [],
   "source": [
    "df_silver_procesar = spark.table(f\"{catalog_param}.{container['origen']}.sales_orders\")"
   ]
  },
  {
   "cell_type": "code",
   "execution_count": 0,
   "metadata": {
    "application/vnd.databricks.v1+cell": {
     "cellMetadata": {
      "byteLimit": 2048000,
      "rowLimit": 10000
     },
     "inputWidgets": {},
     "nuid": "786ece90-145d-45d6-8a43-7b522379d1d4",
     "showTitle": false,
     "tableResultSettingsMap": {},
     "title": ""
    }
   },
   "outputs": [],
   "source": [
    "# Calcular métricas de negocio agregadas por categoría y segmento de cliente\n",
    "\n",
    "# crear columan venta bruta\n",
    "df_silver_procesar_summary = df_silver_procesar.withColumn(\n",
    "    \"gross_sale\",bround((col(\"Price\")*col(\"Units_Sold\")),2)\n",
    ")\n",
    "# crear columan sales_total\n",
    "\n",
    "df_silver_procesar_summary = df_silver_procesar_summary.withColumn(\n",
    "    \"total_sales\",bround((col(\"Price\")*col(\"Units_Sold\"))-col(\"Discount\"),2)\n",
    ")"
   ]
  },
  {
   "cell_type": "code",
   "execution_count": 0,
   "metadata": {
    "application/vnd.databricks.v1+cell": {
     "cellMetadata": {
      "byteLimit": 2048000,
      "rowLimit": 10000
     },
     "inputWidgets": {},
     "nuid": "567b5a7d-8659-4736-bdf1-d56ef05f7679",
     "showTitle": false,
     "tableResultSettingsMap": {},
     "title": ""
    }
   },
   "outputs": [],
   "source": [
    "df_silver_procesar_summary.show(5)"
   ]
  },
  {
   "cell_type": "code",
   "execution_count": 0,
   "metadata": {
    "application/vnd.databricks.v1+cell": {
     "cellMetadata": {
      "byteLimit": 2048000,
      "rowLimit": 10000
     },
     "inputWidgets": {},
     "nuid": "0b6ace22-5c87-44e3-843f-1f9d7ff4224b",
     "showTitle": false,
     "tableResultSettingsMap": {},
     "title": ""
    }
   },
   "outputs": [],
   "source": [
    "# ruta destino\n",
    "golden_path = f\"abfss://{container['destino']}@{storage_account}.dfs.core.windows.net/sales_orders/\""
   ]
  },
  {
   "cell_type": "code",
   "execution_count": 0,
   "metadata": {
    "application/vnd.databricks.v1+cell": {
     "cellMetadata": {
      "byteLimit": 2048000,
      "rowLimit": 10000
     },
     "inputWidgets": {},
     "nuid": "8ea6d052-40f0-4d6e-8312-69b98cdba4bd",
     "showTitle": false,
     "tableResultSettingsMap": {},
     "title": ""
    }
   },
   "outputs": [],
   "source": [
    "# creacion de los archivos delta\n",
    "\n",
    "df_silver_procesar_summary.write.format(\"delta\").mode(\"overwrite\").save(golden_path)\n",
    "                                                                             "
   ]
  },
  {
   "cell_type": "code",
   "execution_count": 0,
   "metadata": {
    "application/vnd.databricks.v1+cell": {
     "cellMetadata": {
      "byteLimit": 2048000,
      "rowLimit": 10000
     },
     "inputWidgets": {},
     "nuid": "c973a2b3-1b5d-4a04-8000-50c0e98ba799",
     "showTitle": false,
     "tableResultSettingsMap": {},
     "title": ""
    }
   },
   "outputs": [],
   "source": [
    "# creacion de la tabla sales_ordes en el schema golden\n",
    "\n",
    "spark.sql(f\"\"\"\n",
    "    CREATE TABLE IF NOT EXISTS {catalog_param}.{container['destino']}.sales_orders\n",
    "    USING DELTA\n",
    "    LOCATION '{golden_path}'\n",
    "\"\"\")"
   ]
  }
 ],
 "metadata": {
  "application/vnd.databricks.v1+notebook": {
   "computePreferences": null,
   "dashboards": [],
   "environmentMetadata": {
    "base_environment": "",
    "environment_version": "3"
   },
   "inputWidgetPreferences": null,
   "language": "python",
   "notebookMetadata": {
    "pythonIndentUnit": 4
   },
   "notebookName": "task_load",
   "widgets": {
    "catalog": {
     "currentValue": "dev_ecommerce",
     "nuid": "8f1f87e8-8c72-465d-9926-c737c03be1f0",
     "typedWidgetInfo": {
      "autoCreated": false,
      "defaultValue": "dev_ecommerce",
      "label": null,
      "name": "catalog",
      "options": {
       "widgetDisplayType": "Text",
       "validationRegex": null
      },
      "parameterDataType": "String"
     },
     "widgetInfo": {
      "widgetType": "text",
      "defaultValue": "dev_ecommerce",
      "label": null,
      "name": "catalog",
      "options": {
       "widgetType": "text",
       "autoCreated": false,
       "validationRegex": null
      }
     }
    },
    "storage_account": {
     "currentValue": "adlsproyecto2025",
     "nuid": "a66c22bf-cdfe-453a-91d2-a4d086c5de04",
     "typedWidgetInfo": {
      "autoCreated": false,
      "defaultValue": "adlsproyecto2025",
      "label": null,
      "name": "storage_account",
      "options": {
       "widgetDisplayType": "Text",
       "validationRegex": null
      },
      "parameterDataType": "String"
     },
     "widgetInfo": {
      "widgetType": "text",
      "defaultValue": "adlsproyecto2025",
      "label": null,
      "name": "storage_account",
      "options": {
       "widgetType": "text",
       "autoCreated": false,
       "validationRegex": null
      }
     }
    }
   }
  },
  "language_info": {
   "name": "python"
  }
 },
 "nbformat": 4,
 "nbformat_minor": 0
}
