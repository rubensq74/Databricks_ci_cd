{
 "cells": [
  {
   "cell_type": "code",
   "execution_count": 0,
   "metadata": {
    "application/vnd.databricks.v1+cell": {
     "cellMetadata": {},
     "inputWidgets": {},
     "nuid": "eb9664eb-dd71-4c74-8af5-ac23d308346c",
     "showTitle": false,
     "tableResultSettingsMap": {},
     "title": ""
    }
   },
   "outputs": [],
   "source": [
    "spark.conf.set(\"spark.sql.ansi.enabled\", \"false\")"
   ]
  },
  {
   "cell_type": "code",
   "execution_count": 0,
   "metadata": {
    "application/vnd.databricks.v1+cell": {
     "cellMetadata": {
      "byteLimit": 2048000,
      "rowLimit": 10000
     },
     "inputWidgets": {},
     "nuid": "33de0e2c-8680-43c9-9a21-c7fa69f65f09",
     "showTitle": false,
     "tableResultSettingsMap": {},
     "title": ""
    }
   },
   "outputs": [],
   "source": [
    "\n",
    "from pyspark.sql.functions import sum, when, trim, to_date, col\n",
    "from pyspark.sql.types import StructType, StructField, DateType, StringType, DoubleType, IntegerType\n"
   ]
  },
  {
   "cell_type": "code",
   "execution_count": 0,
   "metadata": {
    "application/vnd.databricks.v1+cell": {
     "cellMetadata": {
      "byteLimit": 2048000,
      "rowLimit": 10000
     },
     "inputWidgets": {},
     "nuid": "be1b7436-3569-4fec-bc44-df1be20b8d42",
     "showTitle": false,
     "tableResultSettingsMap": {},
     "title": ""
    }
   },
   "outputs": [],
   "source": [
    "# Ingestación de datos\n",
    "dbutils.widgets.text(\"catalog\", \"dev_ecommerce\")\n",
    "dbutils.widgets.text(\"storage_account\",\"adlsproyecto2025\")"
   ]
  },
  {
   "cell_type": "code",
   "execution_count": 0,
   "metadata": {
    "application/vnd.databricks.v1+cell": {
     "cellMetadata": {
      "byteLimit": 2048000,
      "rowLimit": 10000
     },
     "inputWidgets": {},
     "nuid": "0fb64ef9-0180-49b8-9c91-4c887d52376c",
     "showTitle": false,
     "tableResultSettingsMap": {},
     "title": ""
    }
   },
   "outputs": [],
   "source": [
    "catalog_param = dbutils.widgets.get(\"catalog\")\n",
    "storage_account = dbutils.widgets.get(\"storage_account\")\n",
    "# container y schema serán lo mismo\n",
    "container = {\"origen\":\"bronze\",\"destino\":\"silver\"}\n"
   ]
  },
  {
   "cell_type": "code",
   "execution_count": 0,
   "metadata": {
    "application/vnd.databricks.v1+cell": {
     "cellMetadata": {
      "byteLimit": 2048000,
      "rowLimit": 10000
     },
     "inputWidgets": {},
     "nuid": "58a30f20-a8b4-4c4b-a0c2-306154ad3a17",
     "showTitle": false,
     "tableResultSettingsMap": {},
     "title": ""
    }
   },
   "outputs": [],
   "source": [
    "spark.sql(f\"USE CATALOG {catalog_param}\")"
   ]
  },
  {
   "cell_type": "code",
   "execution_count": 0,
   "metadata": {
    "application/vnd.databricks.v1+cell": {
     "cellMetadata": {
      "byteLimit": 2048000,
      "rowLimit": 10000
     },
     "inputWidgets": {},
     "nuid": "b884bdfd-e386-4b0a-a569-01c4bcf13240",
     "showTitle": false,
     "tableResultSettingsMap": {},
     "title": ""
    }
   },
   "outputs": [],
   "source": [
    "\n",
    "df_bronze_init = spark.table(f\"{catalog_param}.{container['origen']}.sales_orders\")\n"
   ]
  },
  {
   "cell_type": "code",
   "execution_count": 0,
   "metadata": {
    "application/vnd.databricks.v1+cell": {
     "cellMetadata": {
      "byteLimit": 2048000,
      "rowLimit": 10000
     },
     "inputWidgets": {},
     "nuid": "9f49f715-c1df-43cd-a26b-85b70448aa22",
     "showTitle": false,
     "tableResultSettingsMap": {},
     "title": ""
    }
   },
   "outputs": [],
   "source": [
    "# primer registro no está como cabecera\n",
    "df_bronze_init.show(3)"
   ]
  },
  {
   "cell_type": "code",
   "execution_count": 0,
   "metadata": {
    "application/vnd.databricks.v1+cell": {
     "cellMetadata": {
      "byteLimit": 2048000,
      "rowLimit": 10000
     },
     "inputWidgets": {},
     "nuid": "f6210d4c-3faa-4ffa-b904-febe60ab658c",
     "showTitle": false,
     "tableResultSettingsMap": {},
     "title": ""
    }
   },
   "outputs": [],
   "source": [
    "# evidencias de rows incuidos el que debe ser la cabecera 1001, al realizar la transformacion debe quedar con 1000 rows.\n",
    "df_bronze_init.count()"
   ]
  },
  {
   "cell_type": "code",
   "execution_count": 0,
   "metadata": {
    "application/vnd.databricks.v1+cell": {
     "cellMetadata": {
      "byteLimit": 2048000,
      "rowLimit": 10000
     },
     "inputWidgets": {},
     "nuid": "3c80b170-8da7-4e51-b757-89f071992c3c",
     "showTitle": false,
     "tableResultSettingsMap": {},
     "title": ""
    }
   },
   "outputs": [],
   "source": [
    "#Transformar el primer registro en nombres de la tabla\n",
    "# -- obtener el primer registro\n",
    "df_first_row = df_bronze_init.first()\n",
    "# -- convertir el primer registro en nombres de columna\n",
    "column_names = [str(cell) for cell in df_first_row]\n",
    "\n",
    "# obtener todos los datos a excepcion de la 1era fila\n",
    "df_bronze_init_no_fisrt_raw = df_bronze_init.subtract(df_bronze_init.limit(1))\n",
    "\n",
    "df_bronze_fixed = df_bronze_init_no_fisrt_raw.toDF(*column_names)\n",
    "\n",
    "# se evidencia que se tiene como se esparaba 1000 registros\n",
    "df_bronze_fixed.count()"
   ]
  },
  {
   "cell_type": "code",
   "execution_count": 0,
   "metadata": {
    "application/vnd.databricks.v1+cell": {
     "cellMetadata": {
      "byteLimit": 2048000,
      "rowLimit": 10000
     },
     "inputWidgets": {},
     "nuid": "48016954-89e3-420c-92d6-fb6f2ade2fff",
     "showTitle": false,
     "tableResultSettingsMap": {},
     "title": ""
    }
   },
   "outputs": [],
   "source": [
    "# com parte de la transforamcion se observa que todas las columnas estan con tipo de dato string\n",
    "df_bronze_fixed.printSchema()"
   ]
  },
  {
   "cell_type": "code",
   "execution_count": 0,
   "metadata": {
    "application/vnd.databricks.v1+cell": {
     "cellMetadata": {
      "byteLimit": 2048000,
      "rowLimit": 10000
     },
     "inputWidgets": {},
     "nuid": "cecdc1b3-b2f5-4a89-a8a4-6a6578a28087",
     "showTitle": false,
     "tableResultSettingsMap": {},
     "title": ""
    }
   },
   "outputs": [],
   "source": [
    "# Definimos el schema adecuado según los datos y previa confirmacion con el negocio\n",
    "\n",
    "schema_orders_sales = StructType([\n",
    "    StructField(\"Date\", DateType(), True),\n",
    "    StructField(\"Product_Category\", StringType(), True),\n",
    "    StructField(\"Price\", DoubleType(), True),\n",
    "    StructField(\"Discount\", DoubleType(), True),\n",
    "    StructField(\"Customer_Segment\", StringType(), True),\n",
    "    StructField(\"Marketing_Spend\", DoubleType(), True),\n",
    "    StructField(\"Units_Sold\", IntegerType(), True)\n",
    "])"
   ]
  },
  {
   "cell_type": "code",
   "execution_count": 0,
   "metadata": {
    "application/vnd.databricks.v1+cell": {
     "cellMetadata": {
      "byteLimit": 2048000,
      "rowLimit": 10000
     },
     "inputWidgets": {},
     "nuid": "5e12c139-497b-4ad2-a89c-483af4148e5c",
     "showTitle": false,
     "tableResultSettingsMap": {},
     "title": ""
    }
   },
   "outputs": [],
   "source": [
    "# casteamos los campos con el schema definido\n",
    "\n",
    "df_bronze_fixed_schema_correct =df_bronze_fixed.select([\n",
    "    (to_date(col(c.name), \"dd-MM-yyyy\").alias(\"Date\")\n",
    "     if c.name == \"Date\" else col(c.name).cast(c.dataType).alias(c.name))\n",
    "    for c in schema_orders_sales\n",
    "])\n",
    "\n",
    "# validamos el schema actualizado\n",
    "df_bronze_fixed_schema_correct.printSchema()\n",
    "\n"
   ]
  },
  {
   "cell_type": "code",
   "execution_count": 0,
   "metadata": {
    "application/vnd.databricks.v1+cell": {
     "cellMetadata": {
      "byteLimit": 2048000,
      "rowLimit": 10000
     },
     "inputWidgets": {},
     "nuid": "f57d8dc1-b389-43fa-9fcf-6c60cd6b122c",
     "showTitle": false,
     "tableResultSettingsMap": {},
     "title": ""
    }
   },
   "outputs": [],
   "source": [
    "\n",
    "from pyspark.sql.functions import col, when, expr\n",
    "\n",
    "# validmas alguna reglas de negocio indicadas en el requerimiento:\n",
    "# price no puede tener valores negativos ni cero\n",
    "# Units_Sold no puede ser negativo y/o cero\n",
    "# Discount no puede ser mayor a 100 soles \n",
    "\n",
    "df_invalid_rules = df_bronze_fixed_schema_correct.filter(\n",
    "    (when(col(\"Price\").isNotNull(), col(\"Price\")).otherwise(0) <= 0) |\n",
    "    (when(col(\"Units_Sold\").isNotNull(), col(\"Units_Sold\")).otherwise(0) < 0) |\n",
    "    (when(col(\"Discount\").isNotNull(), col(\"Discount\")).otherwise(0) > 100)\n",
    ")\n",
    "\n",
    "# si devuelve vacio estamos bien\n",
    "df_invalid_rules.show()"
   ]
  },
  {
   "cell_type": "code",
   "execution_count": 0,
   "metadata": {
    "application/vnd.databricks.v1+cell": {
     "cellMetadata": {
      "byteLimit": 2048000,
      "rowLimit": 10000
     },
     "inputWidgets": {},
     "nuid": "0bdba8fe-b1df-48d7-892d-6203372bd914",
     "showTitle": false,
     "tableResultSettingsMap": {},
     "title": ""
    }
   },
   "outputs": [],
   "source": [
    "# se contruye la ruta destino\n",
    "\n",
    "silver_path = f\"abfss://{container['destino']}@{storage_account}.dfs.core.windows.net/orders_sales/\"\n",
    "\n"
   ]
  },
  {
   "cell_type": "code",
   "execution_count": 0,
   "metadata": {
    "application/vnd.databricks.v1+cell": {
     "cellMetadata": {
      "byteLimit": 2048000,
      "rowLimit": 10000
     },
     "inputWidgets": {},
     "nuid": "020d38e5-e6e3-4c6e-9399-00ef08075727",
     "showTitle": false,
     "tableResultSettingsMap": {},
     "title": ""
    }
   },
   "outputs": [],
   "source": [
    "# se procede a excribir los deltas\n",
    "df_bronze_fixed_schema_correct.write.format(\"delta\").mode(\"append\").save(silver_path)"
   ]
  },
  {
   "cell_type": "code",
   "execution_count": 0,
   "metadata": {
    "application/vnd.databricks.v1+cell": {
     "cellMetadata": {
      "byteLimit": 2048000,
      "rowLimit": 10000
     },
     "inputWidgets": {},
     "nuid": "90fc323b-5fd0-4a3a-8bc2-c193ba7492de",
     "showTitle": false,
     "tableResultSettingsMap": {},
     "title": ""
    }
   },
   "outputs": [],
   "source": [
    "# registro de la tabla sales_ordes en el schema silver \n",
    "\n",
    "spark.sql(f\"\"\"\n",
    "    CREATE TABLE IF NOT EXISTS {catalog_param}.{container['destino']}.sales_orders\n",
    "    USING DELTA\n",
    "    LOCATION '{silver_path}'\n",
    "\"\"\")"
   ]
  }
 ],
 "metadata": {
  "application/vnd.databricks.v1+notebook": {
   "computePreferences": null,
   "dashboards": [],
   "environmentMetadata": {
    "base_environment": "",
    "environment_version": "3"
   },
   "inputWidgetPreferences": null,
   "language": "python",
   "notebookMetadata": {
    "pythonIndentUnit": 4
   },
   "notebookName": "task_transform",
   "widgets": {
    "catalog": {
     "currentValue": "dev_ecommerce",
     "nuid": "56fa44c9-6a27-4f0e-b289-b020293abc86",
     "typedWidgetInfo": {
      "autoCreated": false,
      "defaultValue": "dev_ecommerce",
      "label": null,
      "name": "catalog",
      "options": {
       "widgetDisplayType": "Text",
       "validationRegex": null
      },
      "parameterDataType": "String"
     },
     "widgetInfo": {
      "widgetType": "text",
      "defaultValue": "dev_ecommerce",
      "label": null,
      "name": "catalog",
      "options": {
       "widgetType": "text",
       "autoCreated": false,
       "validationRegex": null
      }
     }
    },
    "storage_account": {
     "currentValue": "adlsproyecto2025",
     "nuid": "c11ff812-0698-46c1-87ce-a8ec64c4a3b6",
     "typedWidgetInfo": {
      "autoCreated": false,
      "defaultValue": "adlsproyecto2025",
      "label": null,
      "name": "storage_account",
      "options": {
       "widgetDisplayType": "Text",
       "validationRegex": null
      },
      "parameterDataType": "String"
     },
     "widgetInfo": {
      "widgetType": "text",
      "defaultValue": "adlsproyecto2025",
      "label": null,
      "name": "storage_account",
      "options": {
       "widgetType": "text",
       "autoCreated": false,
       "validationRegex": null
      }
     }
    }
   }
  },
  "language_info": {
   "name": "python"
  }
 },
 "nbformat": 4,
 "nbformat_minor": 0
}
