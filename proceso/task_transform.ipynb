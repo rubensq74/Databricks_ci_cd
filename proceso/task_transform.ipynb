{
 "cells": [
  {
   "cell_type": "code",
   "execution_count": 0,
   "metadata": {
    "application/vnd.databricks.v1+cell": {
     "cellMetadata": {},
     "inputWidgets": {},
     "nuid": "33de0e2c-8680-43c9-9a21-c7fa69f65f09",
     "showTitle": false,
     "tableResultSettingsMap": {},
     "title": ""
    }
   },
   "outputs": [],
   "source": [
    "\n",
    "from pyspark.sql.functions import sum, when, trim, to_date, col"
   ]
  },
  {
   "cell_type": "code",
   "execution_count": 0,
   "metadata": {
    "application/vnd.databricks.v1+cell": {
     "cellMetadata": {},
     "inputWidgets": {},
     "nuid": "58a30f20-a8b4-4c4b-a0c2-306154ad3a17",
     "showTitle": false,
     "tableResultSettingsMap": {},
     "title": ""
    }
   },
   "outputs": [],
   "source": [
    "spark.sql(\"USE dev_ecommerce\")"
   ]
  },
  {
   "cell_type": "code",
   "execution_count": 0,
   "metadata": {
    "application/vnd.databricks.v1+cell": {
     "cellMetadata": {},
     "inputWidgets": {},
     "nuid": "b884bdfd-e386-4b0a-a569-01c4bcf13240",
     "showTitle": false,
     "tableResultSettingsMap": {},
     "title": ""
    }
   },
   "outputs": [],
   "source": [
    "\n",
    "df_bronze_init = spark.table(\"dev_ecommerce.bronze.sales_orders\")\n"
   ]
  },
  {
   "cell_type": "code",
   "execution_count": 0,
   "metadata": {
    "application/vnd.databricks.v1+cell": {
     "cellMetadata": {},
     "inputWidgets": {},
     "nuid": "9f49f715-c1df-43cd-a26b-85b70448aa22",
     "showTitle": false,
     "tableResultSettingsMap": {},
     "title": ""
    }
   },
   "outputs": [],
   "source": [
    "# primer registro no está como cabecera\n",
    "df_bronze_init.show(3)"
   ]
  },
  {
   "cell_type": "code",
   "execution_count": 0,
   "metadata": {
    "application/vnd.databricks.v1+cell": {
     "cellMetadata": {},
     "inputWidgets": {},
     "nuid": "f6210d4c-3faa-4ffa-b904-febe60ab658c",
     "showTitle": false,
     "tableResultSettingsMap": {},
     "title": ""
    }
   },
   "outputs": [],
   "source": [
    "# evidencias de rows incuidos el que debe ser la cabecera 1001, al realizar la transformacion debe quedar con 1000 rows.\n",
    "df_bronze_init.count()"
   ]
  },
  {
   "cell_type": "code",
   "execution_count": 0,
   "metadata": {
    "application/vnd.databricks.v1+cell": {
     "cellMetadata": {},
     "inputWidgets": {},
     "nuid": "3c80b170-8da7-4e51-b757-89f071992c3c",
     "showTitle": false,
     "tableResultSettingsMap": {},
     "title": ""
    }
   },
   "outputs": [],
   "source": [
    "#Transformar el primer registro en nombres de la tabla\n",
    "# -- obtener el primer registro\n",
    "df_first_row = df_bronze_init.first()\n",
    "# -- convertir el primer registro en nombres de columna\n",
    "column_names = [str(cell) for cell in df_first_row]\n",
    "\n",
    "# obtener todos los datos a excepcion de la 1era fila\n",
    "df_bronze_init_no_fisrt_raw = df_bronze_init.subtract(df_bronze_init.limit(1))\n",
    "\n",
    "df_bronze_fixed = df_bronze_init_no_fisrt_raw.toDF(*column_names)\n",
    "\n",
    "# se evidencia que se tiene como se esparaba 1000 registros\n",
    "df_bronze_fixed.count()"
   ]
  },
  {
   "cell_type": "code",
   "execution_count": 0,
   "metadata": {
    "application/vnd.databricks.v1+cell": {
     "cellMetadata": {},
     "inputWidgets": {},
     "nuid": "48016954-89e3-420c-92d6-fb6f2ade2fff",
     "showTitle": false,
     "tableResultSettingsMap": {},
     "title": ""
    }
   },
   "outputs": [],
   "source": [
    "# com parte de la transforamcion se observa que todas las columnas estan con tipo de dato string\n",
    "df_bronze_fixed.printSchema()"
   ]
  },
  {
   "cell_type": "code",
   "execution_count": 0,
   "metadata": {
    "application/vnd.databricks.v1+cell": {
     "cellMetadata": {},
     "inputWidgets": {},
     "nuid": "cecdc1b3-b2f5-4a89-a8a4-6a6578a28087",
     "showTitle": false,
     "tableResultSettingsMap": {},
     "title": ""
    }
   },
   "outputs": [],
   "source": [
    "# Definimos el schema adecuado según los datos y previa confirmacion con el negocio\n",
    "\n",
    "schema_orders_sales = StructType([\n",
    "    StructField(\"Date\", DateType(), True),\n",
    "    StructField(\"Product_Category\", StringType(), True),\n",
    "    StructField(\"Price\", DoubleType(), True),\n",
    "    StructField(\"Discount\", DoubleType(), True),\n",
    "    StructField(\"Customer_Segment\", StringType(), True),\n",
    "    StructField(\"Marketing_Spend\", DoubleType(), True),\n",
    "    StructField(\"Units_Sold\", IntegerType(), True)\n",
    "])"
   ]
  },
  {
   "cell_type": "code",
   "execution_count": 0,
   "metadata": {
    "application/vnd.databricks.v1+cell": {
     "cellMetadata": {},
     "inputWidgets": {},
     "nuid": "5e12c139-497b-4ad2-a89c-483af4148e5c",
     "showTitle": false,
     "tableResultSettingsMap": {},
     "title": ""
    }
   },
   "outputs": [],
   "source": [
    "# casteamos los campos con el schema definido\n",
    "\n",
    "df_bronze_fixed_schema_correct =df_bronze_fixed.select([\n",
    "    (to_date(col(c.name), \"dd-MM-yyyy\").alias(\"Date\")\n",
    "     if c.name == \"Date\" else col(c.name).cast(c.dataType).alias(c.name))\n",
    "    for c in schema_orders_sales\n",
    "])\n",
    "\n",
    "# validamos el schema actualizado\n",
    "df_bronze_fixed_schema_correct.printSchema()\n",
    "\n"
   ]
  },
  {
   "cell_type": "code",
   "execution_count": 0,
   "metadata": {
    "application/vnd.databricks.v1+cell": {
     "cellMetadata": {},
     "inputWidgets": {},
     "nuid": "c20bc5ca-9bac-4bdb-a044-d9395b266346",
     "showTitle": false,
     "tableResultSettingsMap": {},
     "title": ""
    }
   },
   "outputs": [],
   "source": [
    "\n",
    "\n",
    "# buscamos nullos y/o vacios\n",
    "\n",
    "df_bronze_null_counts = df_bronze_fixed_schema_correct.select([\n",
    "    sum(when(col(c).isNull() | (trim(col(c)) == \"\"), 1).otherwise(0)).alias(c)\n",
    "    for c in df_bronze_fixed_schema_correct.columns\n",
    "])\n",
    "\n",
    "df_bronze_null_counts.display() "
   ]
  },
  {
   "cell_type": "code",
   "execution_count": 0,
   "metadata": {
    "application/vnd.databricks.v1+cell": {
     "cellMetadata": {},
     "inputWidgets": {},
     "nuid": "f57d8dc1-b389-43fa-9fcf-6c60cd6b122c",
     "showTitle": false,
     "tableResultSettingsMap": {},
     "title": ""
    }
   },
   "outputs": [],
   "source": [
    "# validmas alguna reglas de negocio indicadas en el requerimiento:\n",
    "# price no puede tener valores negativos ni cero\n",
    "# Units_Sold no puede ser negativo y/o cero\n",
    "# Discount no puede ser mayor a 100 soles \n",
    "\n",
    "df_invalid_rules = df_bronze_fixed_schema_correct.filter(\n",
    "    (col(\"Price\") <= 0) |\n",
    "    (col(\"Units_Sold\") < 0) |\n",
    "    (col(\"Discount\") > 100) \n",
    ")\n",
    "\n",
    "# si devuelve vacio estamos bien\n",
    "df_invalid_rules.show()"
   ]
  },
  {
   "cell_type": "code",
   "execution_count": 0,
   "metadata": {
    "application/vnd.databricks.v1+cell": {
     "cellMetadata": {},
     "inputWidgets": {},
     "nuid": "0bdba8fe-b1df-48d7-892d-6203372bd914",
     "showTitle": false,
     "tableResultSettingsMap": {},
     "title": ""
    }
   },
   "outputs": [],
   "source": [
    "# se procede a excribir los deltas\n",
    "\n",
    "silver_path = \"abfss://silver@adlsproyecto2025.dfs.core.windows.net/orders_sales/\"\n",
    "\n"
   ]
  },
  {
   "cell_type": "code",
   "execution_count": 0,
   "metadata": {
    "application/vnd.databricks.v1+cell": {
     "cellMetadata": {},
     "inputWidgets": {},
     "nuid": "020d38e5-e6e3-4c6e-9399-00ef08075727",
     "showTitle": false,
     "tableResultSettingsMap": {},
     "title": ""
    }
   },
   "outputs": [],
   "source": [
    "df_bronze_fixed_schema_correct.write.format(\"delta\").mode(\"append\").save(silver_path)"
   ]
  },
  {
   "cell_type": "code",
   "execution_count": 0,
   "metadata": {
    "application/vnd.databricks.v1+cell": {
     "cellMetadata": {},
     "inputWidgets": {},
     "nuid": "90fc323b-5fd0-4a3a-8bc2-c193ba7492de",
     "showTitle": false,
     "tableResultSettingsMap": {},
     "title": ""
    }
   },
   "outputs": [],
   "source": [
    "# registro de la tabla sales_ordes en el schema silver \n",
    "\n",
    "spark.sql(f\"\"\"\n",
    "    CREATE TABLE IF NOT EXISTS dev_ecommerce.silver.sales_orders\n",
    "    USING DELTA\n",
    "    LOCATION '{silver_path}'\n",
    "\"\"\")"
   ]
  }
 ],
 "metadata": {
  "application/vnd.databricks.v1+notebook": {
   "computePreferences": null,
   "dashboards": [],
   "environmentMetadata": {
    "base_environment": "",
    "environment_version": "3"
   },
   "inputWidgetPreferences": null,
   "language": "python",
   "notebookMetadata": {
    "pythonIndentUnit": 4
   },
   "notebookName": "task_transform",
   "widgets": {}
  },
  "language_info": {
   "name": "python"
  }
 },
 "nbformat": 4,
 "nbformat_minor": 0
}
