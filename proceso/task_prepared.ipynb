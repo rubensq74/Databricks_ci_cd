{
 "cells": [
  {
   "cell_type": "code",
   "execution_count": 0,
   "metadata": {
    "application/vnd.databricks.v1+cell": {
     "cellMetadata": {
      "byteLimit": 2048000,
      "rowLimit": 10000
     },
     "inputWidgets": {},
     "nuid": "d87886f6-a19a-45f0-94b9-df8aa17b1376",
     "showTitle": false,
     "tableResultSettingsMap": {},
     "title": ""
    }
   },
   "outputs": [],
   "source": [
    "# Creacion de los schemas y tablas requeridos\n",
    "dbutils.widgets.removeAll()"
   ]
  },
  {
   "cell_type": "code",
   "execution_count": 0,
   "metadata": {
    "application/vnd.databricks.v1+cell": {
     "cellMetadata": {
      "byteLimit": 2048000,
      "rowLimit": 10000
     },
     "inputWidgets": {},
     "nuid": "fb71b8f4-3a2b-4e3e-add5-0ca82cd9a005",
     "showTitle": false,
     "tableResultSettingsMap": {},
     "title": ""
    }
   },
   "outputs": [],
   "source": [
    "schemas_list = [\"bronze\",\"silver\",\"golden\"]\n",
    "\n",
    "dbutils.widgets.text(\"catalog\", \"dev_ecommerce\")\n",
    "dbutils.widgets.text(\"storage_account\",\"adlsproyecto2025\")\n"
   ]
  },
  {
   "cell_type": "code",
   "execution_count": 0,
   "metadata": {
    "application/vnd.databricks.v1+cell": {
     "cellMetadata": {
      "byteLimit": 2048000,
      "rowLimit": 10000
     },
     "inputWidgets": {},
     "nuid": "d0503d3e-94ef-483d-b45d-3b48ead2ac81",
     "showTitle": false,
     "tableResultSettingsMap": {},
     "title": ""
    }
   },
   "outputs": [],
   "source": [
    "catalog_param = dbutils.widgets.get(\"catalog\")\n",
    "storage_account = dbutils.widgets.get(\"storage_account\")"
   ]
  },
  {
   "cell_type": "code",
   "execution_count": 0,
   "metadata": {
    "application/vnd.databricks.v1+cell": {
     "cellMetadata": {
      "byteLimit": 2048000,
      "rowLimit": 10000
     },
     "inputWidgets": {},
     "nuid": "d906fe0e-06f3-4fb4-93a7-0bf9c0c867cc",
     "showTitle": false,
     "tableResultSettingsMap": {},
     "title": ""
    }
   },
   "outputs": [],
   "source": [
    "def delete_folders(path):\n",
    "    try:\n",
    "        dbutils.fs.rm(path, recurse=True)\n",
    "        print(f\"Folder {path} eliminado.\")\n",
    "    except Exception:\n",
    "        print(f\"No existe folder: {path}\")\n",
    "        pass\n",
    "    \n",
    "def create_schema(schema):\n",
    "    spark.sql(f\"CREATE SCHEMA IF NOT EXISTS {catalog_param}.{schema}\")\n",
    "\n",
    "def drop_schema(schema):\n",
    "    spark.sql(f\"DROP SCHEMA IF EXISTS {catalog_param}.{schema} CASCADE\")\n",
    "\n",
    "\n",
    "def use_catalog():\n",
    "    catalogs = [row.catalog for row in spark.sql(\"SHOW CATALOGS\").collect()]\n",
    "    \n",
    "    if catalog_param in catalogs:\n",
    "        spark.sql(f\"USE CATALOG {catalog_param}\")\n",
    "    else:\n",
    "        print(f\"El catálogo '{catalog_param}' aun no existe.\")"
   ]
  },
  {
   "cell_type": "code",
   "execution_count": 0,
   "metadata": {
    "application/vnd.databricks.v1+cell": {
     "cellMetadata": {
      "byteLimit": 2048000,
      "rowLimit": 10000
     },
     "inputWidgets": {},
     "nuid": "7c2bf1f6-7fcf-48d3-8d7b-a487291ad8c7",
     "showTitle": false,
     "tableResultSettingsMap": {},
     "title": ""
    }
   },
   "outputs": [],
   "source": [
    "# seleccion del catalogo\n",
    "use_catalog()\n",
    "\n",
    "# Limpieza de tablas\n",
    "for schema in schemas_list:\n",
    "    drop_schema(schema)\n",
    "\n",
    "# Eliminacion del catalogo\n",
    "spark.sql(f\" DROP CATALOG IF EXISTS {catalog_param} CASCADE\")"
   ]
  },
  {
   "cell_type": "code",
   "execution_count": 0,
   "metadata": {
    "application/vnd.databricks.v1+cell": {
     "cellMetadata": {
      "byteLimit": 2048000,
      "rowLimit": 10000
     },
     "inputWidgets": {},
     "nuid": "94826710-6ba4-443a-8a57-abdf30fc8f90",
     "showTitle": false,
     "tableResultSettingsMap": {},
     "title": ""
    }
   },
   "outputs": [],
   "source": [
    "# Eliminar todas las carpetas de los containers\n",
    "\n",
    "#dbutils.fs.rm(\"abfss://bronze@adlsproyecto2025.dfs.core.windows.net/sales_orders/\", recurse=True)\n",
    "\n",
    "for container in schemas_list:\n",
    "    delete_folders(f\"abfss://{container}@{storage_account}.dfs.core.windows.net/\")\n",
    "\n",
    "\n"
   ]
  },
  {
   "cell_type": "code",
   "execution_count": 0,
   "metadata": {
    "application/vnd.databricks.v1+cell": {
     "cellMetadata": {
      "byteLimit": 2048000,
      "rowLimit": 10000
     },
     "inputWidgets": {},
     "nuid": "cf24e3b2-ec3e-47e5-9ecf-17d632d0dd3f",
     "showTitle": false,
     "tableResultSettingsMap": {},
     "title": ""
    }
   },
   "outputs": [],
   "source": [
    "# crea el catálogo\n",
    "spark.sql(f\"CREATE CATALOG IF NOT EXISTS {catalog_param}\")\n",
    "\n",
    "# seleccion del catalogo\n",
    "use_catalog()\n"
   ]
  },
  {
   "cell_type": "code",
   "execution_count": 0,
   "metadata": {
    "application/vnd.databricks.v1+cell": {
     "cellMetadata": {
      "byteLimit": 2048000,
      "rowLimit": 10000
     },
     "inputWidgets": {},
     "nuid": "a0c9a82b-50d2-42e4-a06b-9ee68b702464",
     "showTitle": false,
     "tableResultSettingsMap": {},
     "title": ""
    }
   },
   "outputs": [],
   "source": [
    "# crea los schemas \n",
    "for schema in schemas_list:\n",
    "    create_schema(schema)"
   ]
  },
  {
   "cell_type": "code",
   "execution_count": 0,
   "metadata": {
    "application/vnd.databricks.v1+cell": {
     "cellMetadata": {
      "byteLimit": 2048000,
      "rowLimit": 10000
     },
     "inputWidgets": {},
     "nuid": "bc9aec1a-e9ae-483f-ad84-256f27ca991b",
     "showTitle": false,
     "tableResultSettingsMap": {},
     "title": ""
    }
   },
   "outputs": [],
   "source": [
    "\n",
    "print(f\"Se ha creado el catálogo '{catalog_param}' y los esquemas\")\n",
    "      "
   ]
  }
 ],
 "metadata": {
  "application/vnd.databricks.v1+notebook": {
   "computePreferences": null,
   "dashboards": [],
   "environmentMetadata": {
    "base_environment": "",
    "environment_version": "3"
   },
   "inputWidgetPreferences": null,
   "language": "python",
   "notebookMetadata": {
    "pythonIndentUnit": 4
   },
   "notebookName": "task_prepared",
   "widgets": {
    "catalog": {
     "currentValue": "dev_ecommerce",
     "nuid": "e43cff5c-7333-4723-9285-6206f2888704",
     "typedWidgetInfo": {
      "autoCreated": false,
      "defaultValue": "dev_ecommerce",
      "label": null,
      "name": "catalog",
      "options": {
       "widgetDisplayType": "Text",
       "validationRegex": null
      },
      "parameterDataType": "String"
     },
     "widgetInfo": {
      "widgetType": "text",
      "defaultValue": "dev_ecommerce",
      "label": null,
      "name": "catalog",
      "options": {
       "widgetType": "text",
       "autoCreated": false,
       "validationRegex": null
      }
     }
    },
    "storage_account": {
     "currentValue": "adlsproyecto2025",
     "nuid": "8a4b758c-4460-4281-801f-e34ea7280ec7",
     "typedWidgetInfo": {
      "autoCreated": false,
      "defaultValue": "adlsproyecto2025",
      "label": null,
      "name": "storage_account",
      "options": {
       "widgetDisplayType": "Text",
       "validationRegex": null
      },
      "parameterDataType": "String"
     },
     "widgetInfo": {
      "widgetType": "text",
      "defaultValue": "adlsproyecto2025",
      "label": null,
      "name": "storage_account",
      "options": {
       "widgetType": "text",
       "autoCreated": false,
       "validationRegex": null
      }
     }
    }
   }
  },
  "language_info": {
   "name": "python"
  }
 },
 "nbformat": 4,
 "nbformat_minor": 0
}
