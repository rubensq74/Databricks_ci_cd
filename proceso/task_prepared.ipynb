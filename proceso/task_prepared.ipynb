{
 "cells": [
  {
   "cell_type": "code",
   "execution_count": 0,
   "metadata": {
    "application/vnd.databricks.v1+cell": {
     "cellMetadata": {},
     "inputWidgets": {},
     "nuid": "d87886f6-a19a-45f0-94b9-df8aa17b1376",
     "showTitle": false,
     "tableResultSettingsMap": {},
     "title": ""
    }
   },
   "outputs": [],
   "source": [
    "# Creacion de los schemas y tablas requeridos"
   ]
  },
  {
   "cell_type": "code",
   "execution_count": 0,
   "metadata": {
    "application/vnd.databricks.v1+cell": {
     "cellMetadata": {},
     "inputWidgets": {},
     "nuid": "fb71b8f4-3a2b-4e3e-add5-0ca82cd9a005",
     "showTitle": false,
     "tableResultSettingsMap": {},
     "title": ""
    }
   },
   "outputs": [],
   "source": [
    "schemas_list = ['bronze','silver','gold']\n",
    "\n"
   ]
  },
  {
   "cell_type": "code",
   "execution_count": 0,
   "metadata": {
    "application/vnd.databricks.v1+cell": {
     "cellMetadata": {},
     "inputWidgets": {},
     "nuid": "56fc4b25-0514-435d-a312-388357842d66",
     "showTitle": false,
     "tableResultSettingsMap": {},
     "title": ""
    }
   },
   "outputs": [],
   "source": [
    "\n",
    "# Limpieza de tablas\n",
    "spark.sql(\"USE CATALOG dev_ecommerce\")\n",
    "\n",
    "spark.sql(\" DROP SCHEMA IF EXISTS dev_ecommerce.golden CASCADE\")\n",
    "spark.sql(\" DROP SCHEMA IF EXISTS dev_ecommerce.silver CASCADE\")\n",
    "spark.sql(\" DROP SCHEMA IF EXISTS dev_ecommerce.bronze CASCADE\")\n",
    "spark.sql(\" DROP CATALOG IF EXISTS dev_ecommerce CASCADE\")\n",
    "\n"
   ]
  },
  {
   "cell_type": "code",
   "execution_count": 0,
   "metadata": {
    "application/vnd.databricks.v1+cell": {
     "cellMetadata": {},
     "inputWidgets": {},
     "nuid": "d906fe0e-06f3-4fb4-93a7-0bf9c0c867cc",
     "showTitle": false,
     "tableResultSettingsMap": {},
     "title": ""
    }
   },
   "outputs": [],
   "source": [
    "def delete_folders(path):\n",
    "    try:\n",
    "        dbutils.fs.rm(path, recurse=True)\n",
    "        print(f\"Folder {path} eliminado.\")\n",
    "    except Exception:\n",
    "        print(f\"No existe folder: {path}\")\n",
    "        pass\n",
    "    \n",
    "def create_schema(schema):\n",
    "    spark.sql(f\"CREATE SCHEMA IF NOT EXISTS dev_ecommerce.{schema}\")\n",
    "    "
   ]
  },
  {
   "cell_type": "code",
   "execution_count": 0,
   "metadata": {
    "application/vnd.databricks.v1+cell": {
     "cellMetadata": {},
     "inputWidgets": {},
     "nuid": "94826710-6ba4-443a-8a57-abdf30fc8f90",
     "showTitle": false,
     "tableResultSettingsMap": {},
     "title": ""
    }
   },
   "outputs": [],
   "source": [
    "# Eliminar todas las carpetas de los containers\n",
    "\n",
    "#dbutils.fs.rm(\"abfss://bronze@adlsproyecto2025.dfs.core.windows.net/sales_orders/\", recurse=True)\n",
    "\n",
    "for schema in schemas_list:\n",
    "    delete_folders(f\"abfss://{schema}@adlsproyecto2025.dfs.core.windows.net/sales_orders/\")\n",
    "\n",
    "\n"
   ]
  },
  {
   "cell_type": "code",
   "execution_count": 0,
   "metadata": {
    "application/vnd.databricks.v1+cell": {
     "cellMetadata": {},
     "inputWidgets": {},
     "nuid": "cf24e3b2-ec3e-47e5-9ecf-17d632d0dd3f",
     "showTitle": false,
     "tableResultSettingsMap": {},
     "title": ""
    }
   },
   "outputs": [],
   "source": [
    "# crea el catálogo\n",
    "spark.sql(\"CREATE CATALOG IF NOT EXISTS dev_ecommerce\")\n",
    "\n",
    "# crea el esquema bronze \n",
    "for schema in schemas_list:\n",
    "    create_schema(schema)\n",
    "\n"
   ]
  },
  {
   "cell_type": "code",
   "execution_count": 0,
   "metadata": {
    "application/vnd.databricks.v1+cell": {
     "cellMetadata": {},
     "inputWidgets": {},
     "nuid": "bc9aec1a-e9ae-483f-ad84-256f27ca991b",
     "showTitle": false,
     "tableResultSettingsMap": {},
     "title": ""
    }
   },
   "outputs": [],
   "source": [
    "print(\"Se ha creado el catálogo y los esquemas\")"
   ]
  }
 ],
 "metadata": {
  "application/vnd.databricks.v1+notebook": {
   "computePreferences": null,
   "dashboards": [],
   "environmentMetadata": {
    "base_environment": "",
    "environment_version": "3"
   },
   "inputWidgetPreferences": null,
   "language": "python",
   "notebookMetadata": {
    "pythonIndentUnit": 4
   },
   "notebookName": "task_prepared",
   "widgets": {}
  },
  "language_info": {
   "name": "python"
  }
 },
 "nbformat": 4,
 "nbformat_minor": 0
}
